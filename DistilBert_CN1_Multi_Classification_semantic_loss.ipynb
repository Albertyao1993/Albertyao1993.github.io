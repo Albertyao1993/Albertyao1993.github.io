{
  "nbformat": 4,
  "nbformat_minor": 0,
  "metadata": {
    "colab": {
      "name": "DistilBert_CN1_Multi_Classification_semantic_loss.ipynb",
      "provenance": [],
      "mount_file_id": "1xGL5DUIFLh3b3Lm2vkSsjgpTt_1PI5Zf",
      "authorship_tag": "ABX9TyOUeRmObu0BYU8jTkUbZiWK",
      "include_colab_link": true
    },
    "kernelspec": {
      "name": "python3",
      "display_name": "Python 3"
    },
    "language_info": {
      "name": "python"
    },
    "accelerator": "GPU"
  },
  "cells": [
    {
      "cell_type": "markdown",
      "metadata": {
        "id": "view-in-github",
        "colab_type": "text"
      },
      "source": [
        "<a href=\"https://colab.research.google.com/github/Albertyao1993/Albertyao1993.github.io/blob/master/DistilBert_CN1_Multi_Classification_semantic_loss.ipynb\" target=\"_parent\"><img src=\"https://colab.research.google.com/assets/colab-badge.svg\" alt=\"Open In Colab\"/></a>"
      ]
    },
    {
      "cell_type": "markdown",
      "source": [
        "# 简介\n",
        "- distil bert\n",
        "- no cross validation\n",
        "- semantic loss"
      ],
      "metadata": {
        "id": "81otSUVPy3ux"
      }
    },
    {
      "cell_type": "code",
      "execution_count": 1,
      "metadata": {
        "colab": {
          "base_uri": "https://localhost:8080/"
        },
        "id": "XYvKDDBSeRHa",
        "outputId": "9326a1d1-4a33-4de5-ca1f-96ee52446e1c"
      },
      "outputs": [
        {
          "output_type": "stream",
          "name": "stdout",
          "text": [
            "Collecting transformers\n",
            "  Downloading transformers-4.15.0-py3-none-any.whl (3.4 MB)\n",
            "\u001b[?25l\r\u001b[K     |                                | 10 kB 26.7 MB/s eta 0:00:01\r\u001b[K     |▏                               | 20 kB 31.2 MB/s eta 0:00:01\r\u001b[K     |▎                               | 30 kB 22.8 MB/s eta 0:00:01\r\u001b[K     |▍                               | 40 kB 18.2 MB/s eta 0:00:01\r\u001b[K     |▌                               | 51 kB 18.7 MB/s eta 0:00:01\r\u001b[K     |▋                               | 61 kB 15.5 MB/s eta 0:00:01\r\u001b[K     |▊                               | 71 kB 14.2 MB/s eta 0:00:01\r\u001b[K     |▉                               | 81 kB 15.6 MB/s eta 0:00:01\r\u001b[K     |▉                               | 92 kB 12.9 MB/s eta 0:00:01\r\u001b[K     |█                               | 102 kB 14.0 MB/s eta 0:00:01\r\u001b[K     |█                               | 112 kB 14.0 MB/s eta 0:00:01\r\u001b[K     |█▏                              | 122 kB 14.0 MB/s eta 0:00:01\r\u001b[K     |█▎                              | 133 kB 14.0 MB/s eta 0:00:01\r\u001b[K     |█▍                              | 143 kB 14.0 MB/s eta 0:00:01\r\u001b[K     |█▌                              | 153 kB 14.0 MB/s eta 0:00:01\r\u001b[K     |█▋                              | 163 kB 14.0 MB/s eta 0:00:01\r\u001b[K     |█▋                              | 174 kB 14.0 MB/s eta 0:00:01\r\u001b[K     |█▊                              | 184 kB 14.0 MB/s eta 0:00:01\r\u001b[K     |█▉                              | 194 kB 14.0 MB/s eta 0:00:01\r\u001b[K     |██                              | 204 kB 14.0 MB/s eta 0:00:01\r\u001b[K     |██                              | 215 kB 14.0 MB/s eta 0:00:01\r\u001b[K     |██▏                             | 225 kB 14.0 MB/s eta 0:00:01\r\u001b[K     |██▎                             | 235 kB 14.0 MB/s eta 0:00:01\r\u001b[K     |██▍                             | 245 kB 14.0 MB/s eta 0:00:01\r\u001b[K     |██▍                             | 256 kB 14.0 MB/s eta 0:00:01\r\u001b[K     |██▌                             | 266 kB 14.0 MB/s eta 0:00:01\r\u001b[K     |██▋                             | 276 kB 14.0 MB/s eta 0:00:01\r\u001b[K     |██▊                             | 286 kB 14.0 MB/s eta 0:00:01\r\u001b[K     |██▉                             | 296 kB 14.0 MB/s eta 0:00:01\r\u001b[K     |███                             | 307 kB 14.0 MB/s eta 0:00:01\r\u001b[K     |███                             | 317 kB 14.0 MB/s eta 0:00:01\r\u001b[K     |███▏                            | 327 kB 14.0 MB/s eta 0:00:01\r\u001b[K     |███▎                            | 337 kB 14.0 MB/s eta 0:00:01\r\u001b[K     |███▎                            | 348 kB 14.0 MB/s eta 0:00:01\r\u001b[K     |███▍                            | 358 kB 14.0 MB/s eta 0:00:01\r\u001b[K     |███▌                            | 368 kB 14.0 MB/s eta 0:00:01\r\u001b[K     |███▋                            | 378 kB 14.0 MB/s eta 0:00:01\r\u001b[K     |███▊                            | 389 kB 14.0 MB/s eta 0:00:01\r\u001b[K     |███▉                            | 399 kB 14.0 MB/s eta 0:00:01\r\u001b[K     |████                            | 409 kB 14.0 MB/s eta 0:00:01\r\u001b[K     |████                            | 419 kB 14.0 MB/s eta 0:00:01\r\u001b[K     |████                            | 430 kB 14.0 MB/s eta 0:00:01\r\u001b[K     |████▏                           | 440 kB 14.0 MB/s eta 0:00:01\r\u001b[K     |████▎                           | 450 kB 14.0 MB/s eta 0:00:01\r\u001b[K     |████▍                           | 460 kB 14.0 MB/s eta 0:00:01\r\u001b[K     |████▌                           | 471 kB 14.0 MB/s eta 0:00:01\r\u001b[K     |████▋                           | 481 kB 14.0 MB/s eta 0:00:01\r\u001b[K     |████▊                           | 491 kB 14.0 MB/s eta 0:00:01\r\u001b[K     |████▉                           | 501 kB 14.0 MB/s eta 0:00:01\r\u001b[K     |████▉                           | 512 kB 14.0 MB/s eta 0:00:01\r\u001b[K     |█████                           | 522 kB 14.0 MB/s eta 0:00:01\r\u001b[K     |█████                           | 532 kB 14.0 MB/s eta 0:00:01\r\u001b[K     |█████▏                          | 542 kB 14.0 MB/s eta 0:00:01\r\u001b[K     |█████▎                          | 552 kB 14.0 MB/s eta 0:00:01\r\u001b[K     |█████▍                          | 563 kB 14.0 MB/s eta 0:00:01\r\u001b[K     |█████▌                          | 573 kB 14.0 MB/s eta 0:00:01\r\u001b[K     |█████▋                          | 583 kB 14.0 MB/s eta 0:00:01\r\u001b[K     |█████▋                          | 593 kB 14.0 MB/s eta 0:00:01\r\u001b[K     |█████▊                          | 604 kB 14.0 MB/s eta 0:00:01\r\u001b[K     |█████▉                          | 614 kB 14.0 MB/s eta 0:00:01\r\u001b[K     |██████                          | 624 kB 14.0 MB/s eta 0:00:01\r\u001b[K     |██████                          | 634 kB 14.0 MB/s eta 0:00:01\r\u001b[K     |██████▏                         | 645 kB 14.0 MB/s eta 0:00:01\r\u001b[K     |██████▎                         | 655 kB 14.0 MB/s eta 0:00:01\r\u001b[K     |██████▍                         | 665 kB 14.0 MB/s eta 0:00:01\r\u001b[K     |██████▌                         | 675 kB 14.0 MB/s eta 0:00:01\r\u001b[K     |██████▌                         | 686 kB 14.0 MB/s eta 0:00:01\r\u001b[K     |██████▋                         | 696 kB 14.0 MB/s eta 0:00:01\r\u001b[K     |██████▊                         | 706 kB 14.0 MB/s eta 0:00:01\r\u001b[K     |██████▉                         | 716 kB 14.0 MB/s eta 0:00:01\r\u001b[K     |███████                         | 727 kB 14.0 MB/s eta 0:00:01\r\u001b[K     |███████                         | 737 kB 14.0 MB/s eta 0:00:01\r\u001b[K     |███████▏                        | 747 kB 14.0 MB/s eta 0:00:01\r\u001b[K     |███████▎                        | 757 kB 14.0 MB/s eta 0:00:01\r\u001b[K     |███████▎                        | 768 kB 14.0 MB/s eta 0:00:01\r\u001b[K     |███████▍                        | 778 kB 14.0 MB/s eta 0:00:01\r\u001b[K     |███████▌                        | 788 kB 14.0 MB/s eta 0:00:01\r\u001b[K     |███████▋                        | 798 kB 14.0 MB/s eta 0:00:01\r\u001b[K     |███████▊                        | 808 kB 14.0 MB/s eta 0:00:01\r\u001b[K     |███████▉                        | 819 kB 14.0 MB/s eta 0:00:01\r\u001b[K     |████████                        | 829 kB 14.0 MB/s eta 0:00:01\r\u001b[K     |████████                        | 839 kB 14.0 MB/s eta 0:00:01\r\u001b[K     |████████                        | 849 kB 14.0 MB/s eta 0:00:01\r\u001b[K     |████████▏                       | 860 kB 14.0 MB/s eta 0:00:01\r\u001b[K     |████████▎                       | 870 kB 14.0 MB/s eta 0:00:01\r\u001b[K     |████████▍                       | 880 kB 14.0 MB/s eta 0:00:01\r\u001b[K     |████████▌                       | 890 kB 14.0 MB/s eta 0:00:01\r\u001b[K     |████████▋                       | 901 kB 14.0 MB/s eta 0:00:01\r\u001b[K     |████████▊                       | 911 kB 14.0 MB/s eta 0:00:01\r\u001b[K     |████████▉                       | 921 kB 14.0 MB/s eta 0:00:01\r\u001b[K     |████████▉                       | 931 kB 14.0 MB/s eta 0:00:01\r\u001b[K     |█████████                       | 942 kB 14.0 MB/s eta 0:00:01\r\u001b[K     |█████████                       | 952 kB 14.0 MB/s eta 0:00:01\r\u001b[K     |█████████▏                      | 962 kB 14.0 MB/s eta 0:00:01\r\u001b[K     |█████████▎                      | 972 kB 14.0 MB/s eta 0:00:01\r\u001b[K     |█████████▍                      | 983 kB 14.0 MB/s eta 0:00:01\r\u001b[K     |█████████▌                      | 993 kB 14.0 MB/s eta 0:00:01\r\u001b[K     |█████████▋                      | 1.0 MB 14.0 MB/s eta 0:00:01\r\u001b[K     |█████████▊                      | 1.0 MB 14.0 MB/s eta 0:00:01\r\u001b[K     |█████████▊                      | 1.0 MB 14.0 MB/s eta 0:00:01\r\u001b[K     |█████████▉                      | 1.0 MB 14.0 MB/s eta 0:00:01\r\u001b[K     |██████████                      | 1.0 MB 14.0 MB/s eta 0:00:01\r\u001b[K     |██████████                      | 1.1 MB 14.0 MB/s eta 0:00:01\r\u001b[K     |██████████▏                     | 1.1 MB 14.0 MB/s eta 0:00:01\r\u001b[K     |██████████▎                     | 1.1 MB 14.0 MB/s eta 0:00:01\r\u001b[K     |██████████▍                     | 1.1 MB 14.0 MB/s eta 0:00:01\r\u001b[K     |██████████▌                     | 1.1 MB 14.0 MB/s eta 0:00:01\r\u001b[K     |██████████▌                     | 1.1 MB 14.0 MB/s eta 0:00:01\r\u001b[K     |██████████▋                     | 1.1 MB 14.0 MB/s eta 0:00:01\r\u001b[K     |██████████▊                     | 1.1 MB 14.0 MB/s eta 0:00:01\r\u001b[K     |██████████▉                     | 1.1 MB 14.0 MB/s eta 0:00:01\r\u001b[K     |███████████                     | 1.1 MB 14.0 MB/s eta 0:00:01\r\u001b[K     |███████████                     | 1.2 MB 14.0 MB/s eta 0:00:01\r\u001b[K     |███████████▏                    | 1.2 MB 14.0 MB/s eta 0:00:01\r\u001b[K     |███████████▎                    | 1.2 MB 14.0 MB/s eta 0:00:01\r\u001b[K     |███████████▎                    | 1.2 MB 14.0 MB/s eta 0:00:01\r\u001b[K     |███████████▍                    | 1.2 MB 14.0 MB/s eta 0:00:01\r\u001b[K     |███████████▌                    | 1.2 MB 14.0 MB/s eta 0:00:01\r\u001b[K     |███████████▋                    | 1.2 MB 14.0 MB/s eta 0:00:01\r\u001b[K     |███████████▊                    | 1.2 MB 14.0 MB/s eta 0:00:01\r\u001b[K     |███████████▉                    | 1.2 MB 14.0 MB/s eta 0:00:01\r\u001b[K     |████████████                    | 1.2 MB 14.0 MB/s eta 0:00:01\r\u001b[K     |████████████                    | 1.3 MB 14.0 MB/s eta 0:00:01\r\u001b[K     |████████████                    | 1.3 MB 14.0 MB/s eta 0:00:01\r\u001b[K     |████████████▏                   | 1.3 MB 14.0 MB/s eta 0:00:01\r\u001b[K     |████████████▎                   | 1.3 MB 14.0 MB/s eta 0:00:01\r\u001b[K     |████████████▍                   | 1.3 MB 14.0 MB/s eta 0:00:01\r\u001b[K     |████████████▌                   | 1.3 MB 14.0 MB/s eta 0:00:01\r\u001b[K     |████████████▋                   | 1.3 MB 14.0 MB/s eta 0:00:01\r\u001b[K     |████████████▊                   | 1.3 MB 14.0 MB/s eta 0:00:01\r\u001b[K     |████████████▉                   | 1.3 MB 14.0 MB/s eta 0:00:01\r\u001b[K     |█████████████                   | 1.4 MB 14.0 MB/s eta 0:00:01\r\u001b[K     |█████████████                   | 1.4 MB 14.0 MB/s eta 0:00:01\r\u001b[K     |█████████████                   | 1.4 MB 14.0 MB/s eta 0:00:01\r\u001b[K     |█████████████▏                  | 1.4 MB 14.0 MB/s eta 0:00:01\r\u001b[K     |█████████████▎                  | 1.4 MB 14.0 MB/s eta 0:00:01\r\u001b[K     |█████████████▍                  | 1.4 MB 14.0 MB/s eta 0:00:01\r\u001b[K     |█████████████▌                  | 1.4 MB 14.0 MB/s eta 0:00:01\r\u001b[K     |█████████████▋                  | 1.4 MB 14.0 MB/s eta 0:00:01\r\u001b[K     |█████████████▊                  | 1.4 MB 14.0 MB/s eta 0:00:01\r\u001b[K     |█████████████▊                  | 1.4 MB 14.0 MB/s eta 0:00:01\r\u001b[K     |█████████████▉                  | 1.5 MB 14.0 MB/s eta 0:00:01\r\u001b[K     |██████████████                  | 1.5 MB 14.0 MB/s eta 0:00:01\r\u001b[K     |██████████████                  | 1.5 MB 14.0 MB/s eta 0:00:01\r\u001b[K     |██████████████▏                 | 1.5 MB 14.0 MB/s eta 0:00:01\r\u001b[K     |██████████████▎                 | 1.5 MB 14.0 MB/s eta 0:00:01\r\u001b[K     |██████████████▍                 | 1.5 MB 14.0 MB/s eta 0:00:01\r\u001b[K     |██████████████▌                 | 1.5 MB 14.0 MB/s eta 0:00:01\r\u001b[K     |██████████████▌                 | 1.5 MB 14.0 MB/s eta 0:00:01\r\u001b[K     |██████████████▋                 | 1.5 MB 14.0 MB/s eta 0:00:01\r\u001b[K     |██████████████▊                 | 1.5 MB 14.0 MB/s eta 0:00:01\r\u001b[K     |██████████████▉                 | 1.6 MB 14.0 MB/s eta 0:00:01\r\u001b[K     |███████████████                 | 1.6 MB 14.0 MB/s eta 0:00:01\r\u001b[K     |███████████████                 | 1.6 MB 14.0 MB/s eta 0:00:01\r\u001b[K     |███████████████▏                | 1.6 MB 14.0 MB/s eta 0:00:01\r\u001b[K     |███████████████▎                | 1.6 MB 14.0 MB/s eta 0:00:01\r\u001b[K     |███████████████▎                | 1.6 MB 14.0 MB/s eta 0:00:01\r\u001b[K     |███████████████▍                | 1.6 MB 14.0 MB/s eta 0:00:01\r\u001b[K     |███████████████▌                | 1.6 MB 14.0 MB/s eta 0:00:01\r\u001b[K     |███████████████▋                | 1.6 MB 14.0 MB/s eta 0:00:01\r\u001b[K     |███████████████▊                | 1.6 MB 14.0 MB/s eta 0:00:01\r\u001b[K     |███████████████▉                | 1.7 MB 14.0 MB/s eta 0:00:01\r\u001b[K     |████████████████                | 1.7 MB 14.0 MB/s eta 0:00:01\r\u001b[K     |████████████████                | 1.7 MB 14.0 MB/s eta 0:00:01\r\u001b[K     |████████████████▏               | 1.7 MB 14.0 MB/s eta 0:00:01\r\u001b[K     |████████████████▏               | 1.7 MB 14.0 MB/s eta 0:00:01\r\u001b[K     |████████████████▎               | 1.7 MB 14.0 MB/s eta 0:00:01\r\u001b[K     |████████████████▍               | 1.7 MB 14.0 MB/s eta 0:00:01\r\u001b[K     |████████████████▌               | 1.7 MB 14.0 MB/s eta 0:00:01\r\u001b[K     |████████████████▋               | 1.7 MB 14.0 MB/s eta 0:00:01\r\u001b[K     |████████████████▊               | 1.8 MB 14.0 MB/s eta 0:00:01\r\u001b[K     |████████████████▉               | 1.8 MB 14.0 MB/s eta 0:00:01\r\u001b[K     |█████████████████               | 1.8 MB 14.0 MB/s eta 0:00:01\r\u001b[K     |█████████████████               | 1.8 MB 14.0 MB/s eta 0:00:01\r\u001b[K     |█████████████████               | 1.8 MB 14.0 MB/s eta 0:00:01\r\u001b[K     |█████████████████▏              | 1.8 MB 14.0 MB/s eta 0:00:01\r\u001b[K     |█████████████████▎              | 1.8 MB 14.0 MB/s eta 0:00:01\r\u001b[K     |█████████████████▍              | 1.8 MB 14.0 MB/s eta 0:00:01\r\u001b[K     |█████████████████▌              | 1.8 MB 14.0 MB/s eta 0:00:01\r\u001b[K     |█████████████████▋              | 1.8 MB 14.0 MB/s eta 0:00:01\r\u001b[K     |█████████████████▊              | 1.9 MB 14.0 MB/s eta 0:00:01\r\u001b[K     |█████████████████▊              | 1.9 MB 14.0 MB/s eta 0:00:01\r\u001b[K     |█████████████████▉              | 1.9 MB 14.0 MB/s eta 0:00:01\r\u001b[K     |██████████████████              | 1.9 MB 14.0 MB/s eta 0:00:01\r\u001b[K     |██████████████████              | 1.9 MB 14.0 MB/s eta 0:00:01\r\u001b[K     |██████████████████▏             | 1.9 MB 14.0 MB/s eta 0:00:01\r\u001b[K     |██████████████████▎             | 1.9 MB 14.0 MB/s eta 0:00:01\r\u001b[K     |██████████████████▍             | 1.9 MB 14.0 MB/s eta 0:00:01\r\u001b[K     |██████████████████▌             | 1.9 MB 14.0 MB/s eta 0:00:01\r\u001b[K     |██████████████████▌             | 1.9 MB 14.0 MB/s eta 0:00:01\r\u001b[K     |██████████████████▋             | 2.0 MB 14.0 MB/s eta 0:00:01\r\u001b[K     |██████████████████▊             | 2.0 MB 14.0 MB/s eta 0:00:01\r\u001b[K     |██████████████████▉             | 2.0 MB 14.0 MB/s eta 0:00:01\r\u001b[K     |███████████████████             | 2.0 MB 14.0 MB/s eta 0:00:01\r\u001b[K     |███████████████████             | 2.0 MB 14.0 MB/s eta 0:00:01\r\u001b[K     |███████████████████▏            | 2.0 MB 14.0 MB/s eta 0:00:01\r\u001b[K     |███████████████████▎            | 2.0 MB 14.0 MB/s eta 0:00:01\r\u001b[K     |███████████████████▍            | 2.0 MB 14.0 MB/s eta 0:00:01\r\u001b[K     |███████████████████▍            | 2.0 MB 14.0 MB/s eta 0:00:01\r\u001b[K     |███████████████████▌            | 2.0 MB 14.0 MB/s eta 0:00:01\r\u001b[K     |███████████████████▋            | 2.1 MB 14.0 MB/s eta 0:00:01\r\u001b[K     |███████████████████▊            | 2.1 MB 14.0 MB/s eta 0:00:01\r\u001b[K     |███████████████████▉            | 2.1 MB 14.0 MB/s eta 0:00:01\r\u001b[K     |████████████████████            | 2.1 MB 14.0 MB/s eta 0:00:01\r\u001b[K     |████████████████████            | 2.1 MB 14.0 MB/s eta 0:00:01\r\u001b[K     |████████████████████▏           | 2.1 MB 14.0 MB/s eta 0:00:01\r\u001b[K     |████████████████████▏           | 2.1 MB 14.0 MB/s eta 0:00:01\r\u001b[K     |████████████████████▎           | 2.1 MB 14.0 MB/s eta 0:00:01\r\u001b[K     |████████████████████▍           | 2.1 MB 14.0 MB/s eta 0:00:01\r\u001b[K     |████████████████████▌           | 2.2 MB 14.0 MB/s eta 0:00:01\r\u001b[K     |████████████████████▋           | 2.2 MB 14.0 MB/s eta 0:00:01\r\u001b[K     |████████████████████▊           | 2.2 MB 14.0 MB/s eta 0:00:01\r\u001b[K     |████████████████████▉           | 2.2 MB 14.0 MB/s eta 0:00:01\r\u001b[K     |█████████████████████           | 2.2 MB 14.0 MB/s eta 0:00:01\r\u001b[K     |█████████████████████           | 2.2 MB 14.0 MB/s eta 0:00:01\r\u001b[K     |█████████████████████           | 2.2 MB 14.0 MB/s eta 0:00:01\r\u001b[K     |█████████████████████▏          | 2.2 MB 14.0 MB/s eta 0:00:01\r\u001b[K     |█████████████████████▎          | 2.2 MB 14.0 MB/s eta 0:00:01\r\u001b[K     |█████████████████████▍          | 2.2 MB 14.0 MB/s eta 0:00:01\r\u001b[K     |█████████████████████▌          | 2.3 MB 14.0 MB/s eta 0:00:01\r\u001b[K     |█████████████████████▋          | 2.3 MB 14.0 MB/s eta 0:00:01\r\u001b[K     |█████████████████████▊          | 2.3 MB 14.0 MB/s eta 0:00:01\r\u001b[K     |█████████████████████▊          | 2.3 MB 14.0 MB/s eta 0:00:01\r\u001b[K     |█████████████████████▉          | 2.3 MB 14.0 MB/s eta 0:00:01\r\u001b[K     |██████████████████████          | 2.3 MB 14.0 MB/s eta 0:00:01\r\u001b[K     |██████████████████████          | 2.3 MB 14.0 MB/s eta 0:00:01\r\u001b[K     |██████████████████████▏         | 2.3 MB 14.0 MB/s eta 0:00:01\r\u001b[K     |██████████████████████▎         | 2.3 MB 14.0 MB/s eta 0:00:01\r\u001b[K     |██████████████████████▍         | 2.3 MB 14.0 MB/s eta 0:00:01\r\u001b[K     |██████████████████████▌         | 2.4 MB 14.0 MB/s eta 0:00:01\r\u001b[K     |██████████████████████▋         | 2.4 MB 14.0 MB/s eta 0:00:01\r\u001b[K     |██████████████████████▋         | 2.4 MB 14.0 MB/s eta 0:00:01\r\u001b[K     |██████████████████████▊         | 2.4 MB 14.0 MB/s eta 0:00:01\r\u001b[K     |██████████████████████▉         | 2.4 MB 14.0 MB/s eta 0:00:01\r\u001b[K     |███████████████████████         | 2.4 MB 14.0 MB/s eta 0:00:01\r\u001b[K     |███████████████████████         | 2.4 MB 14.0 MB/s eta 0:00:01\r\u001b[K     |███████████████████████▏        | 2.4 MB 14.0 MB/s eta 0:00:01\r\u001b[K     |███████████████████████▎        | 2.4 MB 14.0 MB/s eta 0:00:01\r\u001b[K     |███████████████████████▍        | 2.4 MB 14.0 MB/s eta 0:00:01\r\u001b[K     |███████████████████████▍        | 2.5 MB 14.0 MB/s eta 0:00:01\r\u001b[K     |███████████████████████▌        | 2.5 MB 14.0 MB/s eta 0:00:01\r\u001b[K     |███████████████████████▋        | 2.5 MB 14.0 MB/s eta 0:00:01\r\u001b[K     |███████████████████████▊        | 2.5 MB 14.0 MB/s eta 0:00:01\r\u001b[K     |███████████████████████▉        | 2.5 MB 14.0 MB/s eta 0:00:01\r\u001b[K     |████████████████████████        | 2.5 MB 14.0 MB/s eta 0:00:01\r\u001b[K     |████████████████████████        | 2.5 MB 14.0 MB/s eta 0:00:01\r\u001b[K     |████████████████████████▏       | 2.5 MB 14.0 MB/s eta 0:00:01\r\u001b[K     |████████████████████████▏       | 2.5 MB 14.0 MB/s eta 0:00:01\r\u001b[K     |████████████████████████▎       | 2.5 MB 14.0 MB/s eta 0:00:01\r\u001b[K     |████████████████████████▍       | 2.6 MB 14.0 MB/s eta 0:00:01\r\u001b[K     |████████████████████████▌       | 2.6 MB 14.0 MB/s eta 0:00:01\r\u001b[K     |████████████████████████▋       | 2.6 MB 14.0 MB/s eta 0:00:01\r\u001b[K     |████████████████████████▊       | 2.6 MB 14.0 MB/s eta 0:00:01\r\u001b[K     |████████████████████████▉       | 2.6 MB 14.0 MB/s eta 0:00:01\r\u001b[K     |█████████████████████████       | 2.6 MB 14.0 MB/s eta 0:00:01\r\u001b[K     |█████████████████████████       | 2.6 MB 14.0 MB/s eta 0:00:01\r\u001b[K     |█████████████████████████       | 2.6 MB 14.0 MB/s eta 0:00:01\r\u001b[K     |█████████████████████████▏      | 2.6 MB 14.0 MB/s eta 0:00:01\r\u001b[K     |█████████████████████████▎      | 2.7 MB 14.0 MB/s eta 0:00:01\r\u001b[K     |█████████████████████████▍      | 2.7 MB 14.0 MB/s eta 0:00:01\r\u001b[K     |█████████████████████████▌      | 2.7 MB 14.0 MB/s eta 0:00:01\r\u001b[K     |█████████████████████████▋      | 2.7 MB 14.0 MB/s eta 0:00:01\r\u001b[K     |█████████████████████████▊      | 2.7 MB 14.0 MB/s eta 0:00:01\r\u001b[K     |█████████████████████████▉      | 2.7 MB 14.0 MB/s eta 0:00:01\r\u001b[K     |█████████████████████████▉      | 2.7 MB 14.0 MB/s eta 0:00:01\r\u001b[K     |██████████████████████████      | 2.7 MB 14.0 MB/s eta 0:00:01\r\u001b[K     |██████████████████████████      | 2.7 MB 14.0 MB/s eta 0:00:01\r\u001b[K     |██████████████████████████▏     | 2.7 MB 14.0 MB/s eta 0:00:01\r\u001b[K     |██████████████████████████▎     | 2.8 MB 14.0 MB/s eta 0:00:01\r\u001b[K     |██████████████████████████▍     | 2.8 MB 14.0 MB/s eta 0:00:01\r\u001b[K     |██████████████████████████▌     | 2.8 MB 14.0 MB/s eta 0:00:01\r\u001b[K     |██████████████████████████▋     | 2.8 MB 14.0 MB/s eta 0:00:01\r\u001b[K     |██████████████████████████▋     | 2.8 MB 14.0 MB/s eta 0:00:01\r\u001b[K     |██████████████████████████▊     | 2.8 MB 14.0 MB/s eta 0:00:01\r\u001b[K     |██████████████████████████▉     | 2.8 MB 14.0 MB/s eta 0:00:01\r\u001b[K     |███████████████████████████     | 2.8 MB 14.0 MB/s eta 0:00:01\r\u001b[K     |███████████████████████████     | 2.8 MB 14.0 MB/s eta 0:00:01\r\u001b[K     |███████████████████████████▏    | 2.8 MB 14.0 MB/s eta 0:00:01\r\u001b[K     |███████████████████████████▎    | 2.9 MB 14.0 MB/s eta 0:00:01\r\u001b[K     |███████████████████████████▍    | 2.9 MB 14.0 MB/s eta 0:00:01\r\u001b[K     |███████████████████████████▍    | 2.9 MB 14.0 MB/s eta 0:00:01\r\u001b[K     |███████████████████████████▌    | 2.9 MB 14.0 MB/s eta 0:00:01\r\u001b[K     |███████████████████████████▋    | 2.9 MB 14.0 MB/s eta 0:00:01\r\u001b[K     |███████████████████████████▊    | 2.9 MB 14.0 MB/s eta 0:00:01\r\u001b[K     |███████████████████████████▉    | 2.9 MB 14.0 MB/s eta 0:00:01\r\u001b[K     |████████████████████████████    | 2.9 MB 14.0 MB/s eta 0:00:01\r\u001b[K     |████████████████████████████    | 2.9 MB 14.0 MB/s eta 0:00:01\r\u001b[K     |████████████████████████████▏   | 2.9 MB 14.0 MB/s eta 0:00:01\r\u001b[K     |████████████████████████████▏   | 3.0 MB 14.0 MB/s eta 0:00:01\r\u001b[K     |████████████████████████████▎   | 3.0 MB 14.0 MB/s eta 0:00:01\r\u001b[K     |████████████████████████████▍   | 3.0 MB 14.0 MB/s eta 0:00:01\r\u001b[K     |████████████████████████████▌   | 3.0 MB 14.0 MB/s eta 0:00:01\r\u001b[K     |████████████████████████████▋   | 3.0 MB 14.0 MB/s eta 0:00:01\r\u001b[K     |████████████████████████████▊   | 3.0 MB 14.0 MB/s eta 0:00:01\r\u001b[K     |████████████████████████████▉   | 3.0 MB 14.0 MB/s eta 0:00:01\r\u001b[K     |█████████████████████████████   | 3.0 MB 14.0 MB/s eta 0:00:01\r\u001b[K     |█████████████████████████████   | 3.0 MB 14.0 MB/s eta 0:00:01\r\u001b[K     |█████████████████████████████   | 3.1 MB 14.0 MB/s eta 0:00:01\r\u001b[K     |█████████████████████████████▏  | 3.1 MB 14.0 MB/s eta 0:00:01\r\u001b[K     |█████████████████████████████▎  | 3.1 MB 14.0 MB/s eta 0:00:01\r\u001b[K     |█████████████████████████████▍  | 3.1 MB 14.0 MB/s eta 0:00:01\r\u001b[K     |█████████████████████████████▌  | 3.1 MB 14.0 MB/s eta 0:00:01\r\u001b[K     |█████████████████████████████▋  | 3.1 MB 14.0 MB/s eta 0:00:01\r\u001b[K     |█████████████████████████████▊  | 3.1 MB 14.0 MB/s eta 0:00:01\r\u001b[K     |█████████████████████████████▉  | 3.1 MB 14.0 MB/s eta 0:00:01\r\u001b[K     |█████████████████████████████▉  | 3.1 MB 14.0 MB/s eta 0:00:01\r\u001b[K     |██████████████████████████████  | 3.1 MB 14.0 MB/s eta 0:00:01\r\u001b[K     |██████████████████████████████  | 3.2 MB 14.0 MB/s eta 0:00:01\r\u001b[K     |██████████████████████████████▏ | 3.2 MB 14.0 MB/s eta 0:00:01\r\u001b[K     |██████████████████████████████▎ | 3.2 MB 14.0 MB/s eta 0:00:01\r\u001b[K     |██████████████████████████████▍ | 3.2 MB 14.0 MB/s eta 0:00:01\r\u001b[K     |██████████████████████████████▌ | 3.2 MB 14.0 MB/s eta 0:00:01\r\u001b[K     |██████████████████████████████▋ | 3.2 MB 14.0 MB/s eta 0:00:01\r\u001b[K     |██████████████████████████████▋ | 3.2 MB 14.0 MB/s eta 0:00:01\r\u001b[K     |██████████████████████████████▊ | 3.2 MB 14.0 MB/s eta 0:00:01\r\u001b[K     |██████████████████████████████▉ | 3.2 MB 14.0 MB/s eta 0:00:01\r\u001b[K     |███████████████████████████████ | 3.2 MB 14.0 MB/s eta 0:00:01\r\u001b[K     |███████████████████████████████ | 3.3 MB 14.0 MB/s eta 0:00:01\r\u001b[K     |███████████████████████████████▏| 3.3 MB 14.0 MB/s eta 0:00:01\r\u001b[K     |███████████████████████████████▎| 3.3 MB 14.0 MB/s eta 0:00:01\r\u001b[K     |███████████████████████████████▍| 3.3 MB 14.0 MB/s eta 0:00:01\r\u001b[K     |███████████████████████████████▍| 3.3 MB 14.0 MB/s eta 0:00:01\r\u001b[K     |███████████████████████████████▌| 3.3 MB 14.0 MB/s eta 0:00:01\r\u001b[K     |███████████████████████████████▋| 3.3 MB 14.0 MB/s eta 0:00:01\r\u001b[K     |███████████████████████████████▊| 3.3 MB 14.0 MB/s eta 0:00:01\r\u001b[K     |███████████████████████████████▉| 3.3 MB 14.0 MB/s eta 0:00:01\r\u001b[K     |████████████████████████████████| 3.3 MB 14.0 MB/s eta 0:00:01\r\u001b[K     |████████████████████████████████| 3.4 MB 14.0 MB/s \n",
            "\u001b[?25hRequirement already satisfied: Ipython in /usr/local/lib/python3.7/dist-packages (5.5.0)\n",
            "Requirement already satisfied: importlib-metadata in /usr/local/lib/python3.7/dist-packages (from transformers) (4.10.0)\n",
            "Requirement already satisfied: numpy>=1.17 in /usr/local/lib/python3.7/dist-packages (from transformers) (1.19.5)\n",
            "Requirement already satisfied: requests in /usr/local/lib/python3.7/dist-packages (from transformers) (2.23.0)\n",
            "Requirement already satisfied: regex!=2019.12.17 in /usr/local/lib/python3.7/dist-packages (from transformers) (2019.12.20)\n",
            "Collecting tokenizers<0.11,>=0.10.1\n",
            "  Downloading tokenizers-0.10.3-cp37-cp37m-manylinux_2_5_x86_64.manylinux1_x86_64.manylinux_2_12_x86_64.manylinux2010_x86_64.whl (3.3 MB)\n",
            "\u001b[K     |████████████████████████████████| 3.3 MB 58.1 MB/s \n",
            "\u001b[?25hCollecting sacremoses\n",
            "  Downloading sacremoses-0.0.47-py2.py3-none-any.whl (895 kB)\n",
            "\u001b[K     |████████████████████████████████| 895 kB 61.1 MB/s \n",
            "\u001b[?25hRequirement already satisfied: packaging>=20.0 in /usr/local/lib/python3.7/dist-packages (from transformers) (21.3)\n",
            "Requirement already satisfied: tqdm>=4.27 in /usr/local/lib/python3.7/dist-packages (from transformers) (4.62.3)\n",
            "Requirement already satisfied: filelock in /usr/local/lib/python3.7/dist-packages (from transformers) (3.4.2)\n",
            "Collecting pyyaml>=5.1\n",
            "  Downloading PyYAML-6.0-cp37-cp37m-manylinux_2_5_x86_64.manylinux1_x86_64.manylinux_2_12_x86_64.manylinux2010_x86_64.whl (596 kB)\n",
            "\u001b[K     |████████████████████████████████| 596 kB 70.2 MB/s \n",
            "\u001b[?25hCollecting huggingface-hub<1.0,>=0.1.0\n",
            "  Downloading huggingface_hub-0.4.0-py3-none-any.whl (67 kB)\n",
            "\u001b[K     |████████████████████████████████| 67 kB 4.4 MB/s \n",
            "\u001b[?25hRequirement already satisfied: typing-extensions>=3.7.4.3 in /usr/local/lib/python3.7/dist-packages (from huggingface-hub<1.0,>=0.1.0->transformers) (3.10.0.2)\n",
            "Requirement already satisfied: pyparsing!=3.0.5,>=2.0.2 in /usr/local/lib/python3.7/dist-packages (from packaging>=20.0->transformers) (3.0.6)\n",
            "Requirement already satisfied: prompt-toolkit<2.0.0,>=1.0.4 in /usr/local/lib/python3.7/dist-packages (from Ipython) (1.0.18)\n",
            "Requirement already satisfied: pygments in /usr/local/lib/python3.7/dist-packages (from Ipython) (2.6.1)\n",
            "Requirement already satisfied: traitlets>=4.2 in /usr/local/lib/python3.7/dist-packages (from Ipython) (5.1.1)\n",
            "Requirement already satisfied: pexpect in /usr/local/lib/python3.7/dist-packages (from Ipython) (4.8.0)\n",
            "Requirement already satisfied: simplegeneric>0.8 in /usr/local/lib/python3.7/dist-packages (from Ipython) (0.8.1)\n",
            "Requirement already satisfied: setuptools>=18.5 in /usr/local/lib/python3.7/dist-packages (from Ipython) (57.4.0)\n",
            "Requirement already satisfied: decorator in /usr/local/lib/python3.7/dist-packages (from Ipython) (4.4.2)\n",
            "Requirement already satisfied: pickleshare in /usr/local/lib/python3.7/dist-packages (from Ipython) (0.7.5)\n",
            "Requirement already satisfied: six>=1.9.0 in /usr/local/lib/python3.7/dist-packages (from prompt-toolkit<2.0.0,>=1.0.4->Ipython) (1.15.0)\n",
            "Requirement already satisfied: wcwidth in /usr/local/lib/python3.7/dist-packages (from prompt-toolkit<2.0.0,>=1.0.4->Ipython) (0.2.5)\n",
            "Requirement already satisfied: zipp>=0.5 in /usr/local/lib/python3.7/dist-packages (from importlib-metadata->transformers) (3.7.0)\n",
            "Requirement already satisfied: ptyprocess>=0.5 in /usr/local/lib/python3.7/dist-packages (from pexpect->Ipython) (0.7.0)\n",
            "Requirement already satisfied: certifi>=2017.4.17 in /usr/local/lib/python3.7/dist-packages (from requests->transformers) (2021.10.8)\n",
            "Requirement already satisfied: idna<3,>=2.5 in /usr/local/lib/python3.7/dist-packages (from requests->transformers) (2.10)\n",
            "Requirement already satisfied: urllib3!=1.25.0,!=1.25.1,<1.26,>=1.21.1 in /usr/local/lib/python3.7/dist-packages (from requests->transformers) (1.24.3)\n",
            "Requirement already satisfied: chardet<4,>=3.0.2 in /usr/local/lib/python3.7/dist-packages (from requests->transformers) (3.0.4)\n",
            "Requirement already satisfied: joblib in /usr/local/lib/python3.7/dist-packages (from sacremoses->transformers) (1.1.0)\n",
            "Requirement already satisfied: click in /usr/local/lib/python3.7/dist-packages (from sacremoses->transformers) (7.1.2)\n",
            "Installing collected packages: pyyaml, tokenizers, sacremoses, huggingface-hub, transformers\n",
            "  Attempting uninstall: pyyaml\n",
            "    Found existing installation: PyYAML 3.13\n",
            "    Uninstalling PyYAML-3.13:\n",
            "      Successfully uninstalled PyYAML-3.13\n",
            "Successfully installed huggingface-hub-0.4.0 pyyaml-6.0 sacremoses-0.0.47 tokenizers-0.10.3 transformers-4.15.0\n"
          ]
        }
      ],
      "source": [
        "!pip install transformers Ipython\n"
      ]
    },
    {
      "cell_type": "code",
      "source": [
        "import transformers\n",
        "\n",
        "from transformers import DistilBertTokenizer, DistilBertForSequenceClassification\n",
        "from transformers import AdamW\n",
        "import os\n",
        "import torch\n",
        "import torch.nn as nn\n",
        "from torch.utils.data import Dataset, DataLoader\n",
        "from torch.nn.functional import softmax\n",
        "from torch.nn.utils import clip_grad_norm_\n",
        "import sklearn\n",
        "from sklearn.model_selection import train_test_split\n",
        "import pandas as pd\n",
        "import numpy as np\n",
        "from collections import defaultdict\n",
        "\n",
        "RANDOM_STATE = 42\n",
        "BATCH_SIZE = 32\n",
        "EPOCH = 20\n",
        "LR = 1e-4\n",
        "WEIGHT = 0.001\n",
        "DEVICE = 'cuda' if torch.cuda.is_available() else 'cpu'\n",
        "MODEL_NAME = 'distilbert-base-uncased'\n",
        "\n",
        "class CN1_Dataset(Dataset):\n",
        "\n",
        "    def __init__(self,data, max_len=256):\n",
        "        self.data = data\n",
        "        self.tokenizer = DistilBertTokenizer.from_pretrained('distilbert-base-uncased')\n",
        "        self.max_len = max_len\n",
        "    def __len__(self):\n",
        "        return len(self.data)\n",
        "    def __getitem__(self, idx):\n",
        "        row_data = self.data.iloc[idx]\n",
        "        content = row_data['content']\n",
        "        label = row_data[-3:]\n",
        "\n",
        "        encoding = self.tokenizer(\n",
        "            content,\n",
        "            padding='max_length', \n",
        "            truncation=True,\n",
        "            max_length=self.max_len, \n",
        "            return_tensors='pt'\n",
        "        )\n",
        "\n",
        "        return {\n",
        "            'input_ids': encoding['input_ids'].flatten(),\n",
        "            'attention_mask': encoding['attention_mask'].flatten(),\n",
        "            'label': torch.tensor(label, dtype=torch.float32)\n",
        "        }\n",
        "\n",
        "def CreateDataloader(ds, batch_size=16, drop_last=False):\n",
        "    return DataLoader(\n",
        "        ds,\n",
        "        batch_size=batch_size,\n",
        "        drop_last=drop_last\n",
        "    )\n",
        "\n",
        "def semantic_loss(preds, batch_size, device):\n",
        "\n",
        "    # normalized_preds = torch.sigmoid(preds).to(device)\n",
        "    # print(normalized_preds)\n",
        "    wmc_tmp = torch.zeros(batch_size).to(device)\n",
        "    for i in range(3):\n",
        "        one = torch.concat(\n",
        "            [torch.concat([torch.ones([batch_size,i]), torch.zeros([batch_size, 1])], axis=1),\n",
        "             torch.ones([batch_size, 3-i-1])], axis=1).to(device)\n",
        "        # normalized_preds = torch.stack((normalized_preds,normalized_preds,normalized_preds),1)\n",
        "        # print(normalized_preds)\n",
        "        # break\n",
        "        # print(one - normalized_preds)\n",
        "        # print('--------------------------')\n",
        "        wmc_tmp += torch.prod(one-preds, axis=1).to(device)\n",
        "        # wmc_tmp += torch.prod(one-normalized_preds, axis=1).to(device)\n",
        "        # print(torch.log(torch.abs(wmc_tmp)))\n",
        "        log_wmc = (torch.abs(wmc_tmp)).to(device)\n",
        "        sl = torch.mean(torch.sum(log_wmc)).to(device)\n",
        "    return sl\n",
        "\n",
        "'''\n",
        "load data\n",
        "'''\n",
        "df = pd.read_csv('/content/drive/Othercomputers/我的 MacBook Pro (1)/Documents/GitHub/neural_symbolic_FG/training/kn1_data.csv')\n",
        "df_data = pd.DataFrame()\n",
        "df_data['content'] = df['reference_answer'] + df['response']\n",
        "one_hot_labels = pd.get_dummies(df['verification'])\n",
        "df_data = pd.concat([df_data, one_hot_labels], axis=1)\n",
        "\n",
        "'''\n",
        "create train and val dataset and dataloader\n",
        "'''\n",
        "df_train,df_val = train_test_split(df_data, random_state=RANDOM_STATE, test_size=0.15)\n",
        "ds_train = CN1_Dataset(df_train)\n",
        "ds_val = CN1_Dataset(df_val)\n",
        "\n",
        "dl_train = CreateDataloader(ds_train,batch_size=BATCH_SIZE)\n",
        "dl_val = CreateDataloader(ds_val, batch_size=BATCH_SIZE)\n",
        "\n",
        "model = DistilBertForSequenceClassification.from_pretrained(MODEL_NAME,\n",
        "                                                            num_labels=3,\n",
        "                                                            output_hidden_states=False,\n",
        "                                                            output_attentions=False)\n",
        "model.to(DEVICE)\n",
        "# criterion = nn.CrossEntropyLoss().to(DEVICE)\n",
        "criterion = nn.BCELoss().to(DEVICE)\n",
        "optimizer = AdamW(model.parameters(), lr=LR )\n",
        "\n",
        "history = defaultdict(list)\n",
        "\n",
        "for epoch in range(EPOCH):\n",
        "\n",
        "\n",
        "    model.train()\n",
        "    train_losses = []\n",
        "    train_correct_preds = 0\n",
        "\n",
        "    for data in dl_train:\n",
        "        input_ids = data['input_ids'].squeeze(1).to(DEVICE)\n",
        "        attention_mask = data['attention_mask'].squeeze(1).to(DEVICE)\n",
        "        label = data['label'].to(DEVICE)\n",
        "\n",
        "        output = model(input_ids, attention_mask)\n",
        "        # output = softmax(output.logits)\n",
        "        output = torch.sigmoid(output.logits)\n",
        "\n",
        "        train_loss = -WEIGHT * semantic_loss(output, output.shape[0], DEVICE) + criterion(output, label) \n",
        "        train_losses.append(train_loss.item())\n",
        "        train_correct_preds += torch.sum(torch.argmax(output, dim=1) == torch.argmax(label, dim=1))\n",
        "        train_acc = train_correct_preds / len(ds_train)\n",
        "\n",
        "        train_loss.backward()\n",
        "        clip_grad_norm_(model.parameters(), max_norm=1.0)\n",
        "        optimizer.step()\n",
        "        optimizer.zero_grad()\n",
        "\n",
        "\n",
        "    model.eval()\n",
        "    val_losses = []\n",
        "    val_correct_preds = 0\n",
        "    with torch.no_grad():\n",
        "      for data in dl_val:\n",
        "          input_ids = data['input_ids'].squeeze(1).to(DEVICE)\n",
        "          attention_mask = data['attention_mask'].squeeze(1).to(DEVICE)\n",
        "          label = data['label'].to(DEVICE)\n",
        "\n",
        "          output = model(input_ids, attention_mask)\n",
        "          # output = softmax(output.logits)\n",
        "          output = torch.sigmoid(output.logits)\n",
        "\n",
        "\n",
        "          val_loss = -WEIGHT * semantic_loss(output, output.shape[0], DEVICE) + criterion(output, label) \n",
        "          val_losses.append(val_loss.item())\n",
        "          val_correct_preds += torch.sum(torch.argmax(output, dim=1) == torch.argmax(label, dim=1))\n",
        "          val_acc = val_correct_preds / len(ds_val)\n",
        "    \n",
        "    \n",
        "    history['train_loss'].append(np.mean(train_losses))\n",
        "    history['train_acc'].append(train_acc)\n",
        "    history['val_loss'].append(np.mean(val_losses))\n",
        "    history['val_acc'].append(val_acc)\n",
        "\n",
        "    print('#'*50)\n",
        "    print(f'run {epoch+1} of {EPOCH}')\n",
        "    print(f'train loss: {np.mean(train_losses)}, train acc: {train_acc}')\n",
        "    print(f'val loss: {np.mean(val_losses)}, val acc: {val_acc}')\n",
        "\n",
        "\n",
        "\n"
      ],
      "metadata": {
        "colab": {
          "base_uri": "https://localhost:8080/"
        },
        "id": "GAgQIBF_edcB",
        "outputId": "872abb5d-1240-4e33-aefa-beac1835ce11"
      },
      "execution_count": 15,
      "outputs": [
        {
          "output_type": "stream",
          "name": "stderr",
          "text": [
            "Some weights of the model checkpoint at distilbert-base-uncased were not used when initializing DistilBertForSequenceClassification: ['vocab_layer_norm.weight', 'vocab_projector.bias', 'vocab_transform.bias', 'vocab_projector.weight', 'vocab_layer_norm.bias', 'vocab_transform.weight']\n",
            "- This IS expected if you are initializing DistilBertForSequenceClassification from the checkpoint of a model trained on another task or with another architecture (e.g. initializing a BertForSequenceClassification model from a BertForPreTraining model).\n",
            "- This IS NOT expected if you are initializing DistilBertForSequenceClassification from the checkpoint of a model that you expect to be exactly identical (initializing a BertForSequenceClassification model from a BertForSequenceClassification model).\n",
            "Some weights of DistilBertForSequenceClassification were not initialized from the model checkpoint at distilbert-base-uncased and are newly initialized: ['pre_classifier.weight', 'pre_classifier.bias', 'classifier.bias', 'classifier.weight']\n",
            "You should probably TRAIN this model on a down-stream task to be able to use it for predictions and inference.\n"
          ]
        },
        {
          "output_type": "stream",
          "name": "stdout",
          "text": [
            "##################################################\n",
            "run 1 of 20\n",
            "train loss: 0.518294308334589, train acc: 0.5964912176132202\n",
            "val loss: 0.49219984241894316, val acc: 0.5675675868988037\n",
            "##################################################\n",
            "run 2 of 20\n",
            "train loss: 0.4243898898363113, train acc: 0.6610845327377319\n",
            "val loss: 0.4315850351537977, val acc: 0.6486486792564392\n",
            "##################################################\n",
            "run 3 of 20\n",
            "train loss: 0.35879192147403954, train acc: 0.7376395463943481\n",
            "val loss: 0.38811499731881277, val acc: 0.7342342734336853\n",
            "##################################################\n",
            "run 4 of 20\n",
            "train loss: 0.31833580955863, train acc: 0.7743221521377563\n",
            "val loss: 0.36940250226429533, val acc: 0.7207207679748535\n",
            "##################################################\n",
            "run 5 of 20\n",
            "train loss: 0.2825639302842319, train acc: 0.7990430593490601\n",
            "val loss: 0.3803987673350743, val acc: 0.7432432770729065\n",
            "##################################################\n",
            "run 6 of 20\n",
            "train loss: 0.24545691637322306, train acc: 0.8213716149330139\n",
            "val loss: 0.4848342708178929, val acc: 0.7027027010917664\n",
            "##################################################\n",
            "run 7 of 20\n",
            "train loss: 0.23501509027555584, train acc: 0.8285486102104187\n",
            "val loss: 0.46371245809963774, val acc: 0.7342342734336853\n",
            "##################################################\n",
            "run 8 of 20\n",
            "train loss: 0.18892784509807825, train acc: 0.8668261170387268\n",
            "val loss: 0.46762630343437195, val acc: 0.7387387752532959\n",
            "##################################################\n",
            "run 9 of 20\n",
            "train loss: 0.17706402242183686, train acc: 0.8716108202934265\n",
            "val loss: 0.5335781616824014, val acc: 0.7387387752532959\n",
            "##################################################\n",
            "run 10 of 20\n",
            "train loss: 0.15112850825535135, train acc: 0.8891546726226807\n",
            "val loss: 0.4968953388077872, val acc: 0.7387387752532959\n",
            "##################################################\n",
            "run 11 of 20\n",
            "train loss: 0.1266474261530675, train acc: 0.89952152967453\n",
            "val loss: 0.532090323311942, val acc: 0.7162162065505981\n",
            "##################################################\n",
            "run 12 of 20\n",
            "train loss: 0.10804093029582873, train acc: 0.9122806787490845\n",
            "val loss: 0.6029538086482457, val acc: 0.7477477788925171\n",
            "##################################################\n",
            "run 13 of 20\n",
            "train loss: 0.09905183016089722, train acc: 0.9138755798339844\n",
            "val loss: 0.6676545654024396, val acc: 0.7252252697944641\n",
            "##################################################\n",
            "run 14 of 20\n",
            "train loss: 0.08216584487818182, train acc: 0.9226475358009338\n",
            "val loss: 0.6416551215308053, val acc: 0.7522522807121277\n",
            "##################################################\n",
            "run 15 of 20\n",
            "train loss: 0.08842802628641948, train acc: 0.9226475358009338\n",
            "val loss: 0.7532171607017517, val acc: 0.7252252697944641\n",
            "##################################################\n",
            "run 16 of 20\n",
            "train loss: 0.08598685450269841, train acc: 0.9170653820037842\n",
            "val loss: 0.717959463596344, val acc: 0.7252252697944641\n",
            "##################################################\n",
            "run 17 of 20\n",
            "train loss: 0.08566279981750995, train acc: 0.9146730303764343\n",
            "val loss: 0.702244792665754, val acc: 0.7432432770729065\n",
            "##################################################\n",
            "run 18 of 20\n",
            "train loss: 0.07891465029097162, train acc: 0.9242424368858337\n",
            "val loss: 0.8508658579417637, val acc: 0.7252252697944641\n",
            "##################################################\n",
            "run 19 of 20\n",
            "train loss: 0.07785382620058953, train acc: 0.9250398874282837\n",
            "val loss: 0.7976899572781154, val acc: 0.7387387752532959\n",
            "##################################################\n",
            "run 20 of 20\n",
            "train loss: 0.07340852840570733, train acc: 0.9258373379707336\n",
            "val loss: 0.7994269558361599, val acc: 0.7387387752532959\n"
          ]
        }
      ]
    },
    {
      "cell_type": "markdown",
      "source": [
        ""
      ],
      "metadata": {
        "id": "DY-XgVeuy16x"
      }
    },
    {
      "cell_type": "markdown",
      "source": [
        "# Plot train loss and accuracy\n"
      ],
      "metadata": {
        "id": "PIjY1RRiu6zn"
      }
    },
    {
      "cell_type": "code",
      "source": [
        "import matplotlib.pyplot as plt\n",
        "\n",
        "plt.plot(history['train_loss'], label='train loss')\n",
        "plt.plot(history['val_loss'], label='validation loss')\n",
        "\n",
        "plt.title('Training history')\n",
        "plt.ylabel('Loss')\n",
        "plt.xlabel('Epoch')\n",
        "plt.legend()\n",
        "# plt.ylim([0, 1])\n",
        "plt.show()"
      ],
      "metadata": {
        "colab": {
          "base_uri": "https://localhost:8080/",
          "height": 295
        },
        "id": "hqnMe3Zru5zU",
        "outputId": "05621b4d-42b0-43c0-fabf-bca53b3d9e5e"
      },
      "execution_count": 16,
      "outputs": [
        {
          "output_type": "display_data",
          "data": {
            "image/png": "[encoded data removed]",
            "text/plain": [
              "<Figure size 432x288 with 1 Axes>"
            ]
          },
          "metadata": {
            "needs_background": "light"
          }
        }
      ]
    },
    {
      "cell_type": "code",
      "source": [
        "plt.plot(history['train_acc'], label='train accuracy')\n",
        "plt.plot(history['val_acc'], label='validation accuracy')\n",
        "\n",
        "plt.title('Training history')\n",
        "plt.ylabel('Accuracy')\n",
        "plt.xlabel('Epoch')\n",
        "plt.legend()\n",
        "# plt.ylim([0, 1])\n",
        "plt.show()"
      ],
      "metadata": {
        "colab": {
          "base_uri": "https://localhost:8080/",
          "height": 295
        },
        "id": "aiFXyA_evCyQ",
        "outputId": "43b0e12e-bf60-4238-eb3e-c5ff756d6529"
      },
      "execution_count": 17,
      "outputs": [
        {
          "output_type": "display_data",
          "data": {
            "image/png": "[encoded data removed]",
            "text/plain": [
              "<Figure size 432x288 with 1 Axes>"
            ]
          },
          "metadata": {
            "needs_background": "light"
          }
        }
      ]
    },
    {
      "cell_type": "code",
      "source": [
        ""
      ],
      "metadata": {
        "id": "jc78kpIePmxC"
      },
      "execution_count": null,
      "outputs": []
    }
  ]
}