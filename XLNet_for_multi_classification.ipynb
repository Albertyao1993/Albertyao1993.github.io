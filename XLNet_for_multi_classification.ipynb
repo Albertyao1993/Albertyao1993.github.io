{
  "nbformat": 4,
  "nbformat_minor": 0,
  "metadata": {
    "colab": {
      "name": "XLNet for multi classification.ipynb",
      "provenance": [],
      "mount_file_id": "1nTrv1W7_Ss1CeonGUvg2vnUIVDCQJejV",
      "authorship_tag": "ABX9TyPkGBaAg9u2ZA81BiB7ChcI",
      "include_colab_link": true
    },
    "kernelspec": {
      "name": "python3",
      "display_name": "Python 3"
    },
    "language_info": {
      "name": "python"
    },
    "accelerator": "GPU"
  },
  "cells": [
    {
      "cell_type": "markdown",
      "metadata": {
        "id": "view-in-github",
        "colab_type": "text"
      },
      "source": [
        "<a href=\"https://colab.research.google.com/github/Albertyao1993/Albertyao1993.github.io/blob/master/XLNet_for_multi_classification.ipynb\" target=\"_parent\"><img src=\"https://colab.research.google.com/assets/colab-badge.svg\" alt=\"Open In Colab\"/></a>"
      ]
    },
    {
      "cell_type": "code",
      "execution_count": 1,
      "metadata": {
        "colab": {
          "base_uri": "https://localhost:8080/"
        },
        "id": "i38US2_8b2fc",
        "outputId": "3fd77e9f-b0f6-4c68-89e1-be6e11a5a9c4"
      },
      "outputs": [
        {
          "output_type": "stream",
          "name": "stdout",
          "text": [
            "Collecting transformers\n",
            "  Downloading transformers-4.15.0-py3-none-any.whl (3.4 MB)\n",
            "\u001b[K     |████████████████████████████████| 3.4 MB 5.0 MB/s \n",
            "\u001b[?25hRequirement already satisfied: Ipython in /usr/local/lib/python3.7/dist-packages (5.5.0)\n",
            "Requirement already satisfied: packaging>=20.0 in /usr/local/lib/python3.7/dist-packages (from transformers) (21.3)\n",
            "Collecting tokenizers<0.11,>=0.10.1\n",
            "  Downloading tokenizers-0.10.3-cp37-cp37m-manylinux_2_5_x86_64.manylinux1_x86_64.manylinux_2_12_x86_64.manylinux2010_x86_64.whl (3.3 MB)\n",
            "\u001b[K     |████████████████████████████████| 3.3 MB 38.9 MB/s \n",
            "\u001b[?25hRequirement already satisfied: regex!=2019.12.17 in /usr/local/lib/python3.7/dist-packages (from transformers) (2019.12.20)\n",
            "Collecting sacremoses\n",
            "  Downloading sacremoses-0.0.47-py2.py3-none-any.whl (895 kB)\n",
            "\u001b[K     |████████████████████████████████| 895 kB 46.4 MB/s \n",
            "\u001b[?25hCollecting huggingface-hub<1.0,>=0.1.0\n",
            "  Downloading huggingface_hub-0.4.0-py3-none-any.whl (67 kB)\n",
            "\u001b[K     |████████████████████████████████| 67 kB 4.0 MB/s \n",
            "\u001b[?25hCollecting pyyaml>=5.1\n",
            "  Downloading PyYAML-6.0-cp37-cp37m-manylinux_2_5_x86_64.manylinux1_x86_64.manylinux_2_12_x86_64.manylinux2010_x86_64.whl (596 kB)\n",
            "\u001b[K     |████████████████████████████████| 596 kB 51.2 MB/s \n",
            "\u001b[?25hRequirement already satisfied: numpy>=1.17 in /usr/local/lib/python3.7/dist-packages (from transformers) (1.19.5)\n",
            "Requirement already satisfied: filelock in /usr/local/lib/python3.7/dist-packages (from transformers) (3.4.2)\n",
            "Requirement already satisfied: requests in /usr/local/lib/python3.7/dist-packages (from transformers) (2.23.0)\n",
            "Requirement already satisfied: tqdm>=4.27 in /usr/local/lib/python3.7/dist-packages (from transformers) (4.62.3)\n",
            "Requirement already satisfied: importlib-metadata in /usr/local/lib/python3.7/dist-packages (from transformers) (4.10.0)\n",
            "Requirement already satisfied: typing-extensions>=3.7.4.3 in /usr/local/lib/python3.7/dist-packages (from huggingface-hub<1.0,>=0.1.0->transformers) (3.10.0.2)\n",
            "Requirement already satisfied: pyparsing!=3.0.5,>=2.0.2 in /usr/local/lib/python3.7/dist-packages (from packaging>=20.0->transformers) (3.0.6)\n",
            "Requirement already satisfied: simplegeneric>0.8 in /usr/local/lib/python3.7/dist-packages (from Ipython) (0.8.1)\n",
            "Requirement already satisfied: decorator in /usr/local/lib/python3.7/dist-packages (from Ipython) (4.4.2)\n",
            "Requirement already satisfied: pickleshare in /usr/local/lib/python3.7/dist-packages (from Ipython) (0.7.5)\n",
            "Requirement already satisfied: traitlets>=4.2 in /usr/local/lib/python3.7/dist-packages (from Ipython) (5.1.1)\n",
            "Requirement already satisfied: pexpect in /usr/local/lib/python3.7/dist-packages (from Ipython) (4.8.0)\n",
            "Requirement already satisfied: setuptools>=18.5 in /usr/local/lib/python3.7/dist-packages (from Ipython) (57.4.0)\n",
            "Requirement already satisfied: pygments in /usr/local/lib/python3.7/dist-packages (from Ipython) (2.6.1)\n",
            "Requirement already satisfied: prompt-toolkit<2.0.0,>=1.0.4 in /usr/local/lib/python3.7/dist-packages (from Ipython) (1.0.18)\n",
            "Requirement already satisfied: six>=1.9.0 in /usr/local/lib/python3.7/dist-packages (from prompt-toolkit<2.0.0,>=1.0.4->Ipython) (1.15.0)\n",
            "Requirement already satisfied: wcwidth in /usr/local/lib/python3.7/dist-packages (from prompt-toolkit<2.0.0,>=1.0.4->Ipython) (0.2.5)\n",
            "Requirement already satisfied: zipp>=0.5 in /usr/local/lib/python3.7/dist-packages (from importlib-metadata->transformers) (3.7.0)\n",
            "Requirement already satisfied: ptyprocess>=0.5 in /usr/local/lib/python3.7/dist-packages (from pexpect->Ipython) (0.7.0)\n",
            "Requirement already satisfied: urllib3!=1.25.0,!=1.25.1,<1.26,>=1.21.1 in /usr/local/lib/python3.7/dist-packages (from requests->transformers) (1.24.3)\n",
            "Requirement already satisfied: certifi>=2017.4.17 in /usr/local/lib/python3.7/dist-packages (from requests->transformers) (2021.10.8)\n",
            "Requirement already satisfied: idna<3,>=2.5 in /usr/local/lib/python3.7/dist-packages (from requests->transformers) (2.10)\n",
            "Requirement already satisfied: chardet<4,>=3.0.2 in /usr/local/lib/python3.7/dist-packages (from requests->transformers) (3.0.4)\n",
            "Requirement already satisfied: joblib in /usr/local/lib/python3.7/dist-packages (from sacremoses->transformers) (1.1.0)\n",
            "Requirement already satisfied: click in /usr/local/lib/python3.7/dist-packages (from sacremoses->transformers) (7.1.2)\n",
            "Installing collected packages: pyyaml, tokenizers, sacremoses, huggingface-hub, transformers\n",
            "  Attempting uninstall: pyyaml\n",
            "    Found existing installation: PyYAML 3.13\n",
            "    Uninstalling PyYAML-3.13:\n",
            "      Successfully uninstalled PyYAML-3.13\n",
            "Successfully installed huggingface-hub-0.4.0 pyyaml-6.0 sacremoses-0.0.47 tokenizers-0.10.3 transformers-4.15.0\n"
          ]
        }
      ],
      "source": [
        "!pip install transformers Ipython"
      ]
    },
    {
      "cell_type": "code",
      "source": [
        "!pip install sentencepiece"
      ],
      "metadata": {
        "colab": {
          "base_uri": "https://localhost:8080/"
        },
        "id": "M0zaIVy6hGvN",
        "outputId": "7daddbb1-f592-45d4-b437-a60bea7388bb"
      },
      "execution_count": 2,
      "outputs": [
        {
          "output_type": "stream",
          "name": "stdout",
          "text": [
            "Collecting sentencepiece\n",
            "  Downloading sentencepiece-0.1.96-cp37-cp37m-manylinux_2_17_x86_64.manylinux2014_x86_64.whl (1.2 MB)\n",
            "\u001b[?25l\r\u001b[K     |▎                               | 10 kB 18.4 MB/s eta 0:00:01\r\u001b[K     |▌                               | 20 kB 21.0 MB/s eta 0:00:01\r\u001b[K     |▉                               | 30 kB 12.1 MB/s eta 0:00:01\r\u001b[K     |█                               | 40 kB 10.4 MB/s eta 0:00:01\r\u001b[K     |█▍                              | 51 kB 5.7 MB/s eta 0:00:01\r\u001b[K     |█▋                              | 61 kB 6.2 MB/s eta 0:00:01\r\u001b[K     |██                              | 71 kB 6.0 MB/s eta 0:00:01\r\u001b[K     |██▏                             | 81 kB 6.8 MB/s eta 0:00:01\r\u001b[K     |██▍                             | 92 kB 5.1 MB/s eta 0:00:01\r\u001b[K     |██▊                             | 102 kB 5.6 MB/s eta 0:00:01\r\u001b[K     |███                             | 112 kB 5.6 MB/s eta 0:00:01\r\u001b[K     |███▎                            | 122 kB 5.6 MB/s eta 0:00:01\r\u001b[K     |███▌                            | 133 kB 5.6 MB/s eta 0:00:01\r\u001b[K     |███▉                            | 143 kB 5.6 MB/s eta 0:00:01\r\u001b[K     |████                            | 153 kB 5.6 MB/s eta 0:00:01\r\u001b[K     |████▎                           | 163 kB 5.6 MB/s eta 0:00:01\r\u001b[K     |████▋                           | 174 kB 5.6 MB/s eta 0:00:01\r\u001b[K     |████▉                           | 184 kB 5.6 MB/s eta 0:00:01\r\u001b[K     |█████▏                          | 194 kB 5.6 MB/s eta 0:00:01\r\u001b[K     |█████▍                          | 204 kB 5.6 MB/s eta 0:00:01\r\u001b[K     |█████▊                          | 215 kB 5.6 MB/s eta 0:00:01\r\u001b[K     |██████                          | 225 kB 5.6 MB/s eta 0:00:01\r\u001b[K     |██████▏                         | 235 kB 5.6 MB/s eta 0:00:01\r\u001b[K     |██████▌                         | 245 kB 5.6 MB/s eta 0:00:01\r\u001b[K     |██████▊                         | 256 kB 5.6 MB/s eta 0:00:01\r\u001b[K     |███████                         | 266 kB 5.6 MB/s eta 0:00:01\r\u001b[K     |███████▎                        | 276 kB 5.6 MB/s eta 0:00:01\r\u001b[K     |███████▋                        | 286 kB 5.6 MB/s eta 0:00:01\r\u001b[K     |███████▉                        | 296 kB 5.6 MB/s eta 0:00:01\r\u001b[K     |████████                        | 307 kB 5.6 MB/s eta 0:00:01\r\u001b[K     |████████▍                       | 317 kB 5.6 MB/s eta 0:00:01\r\u001b[K     |████████▋                       | 327 kB 5.6 MB/s eta 0:00:01\r\u001b[K     |█████████                       | 337 kB 5.6 MB/s eta 0:00:01\r\u001b[K     |█████████▏                      | 348 kB 5.6 MB/s eta 0:00:01\r\u001b[K     |█████████▌                      | 358 kB 5.6 MB/s eta 0:00:01\r\u001b[K     |█████████▊                      | 368 kB 5.6 MB/s eta 0:00:01\r\u001b[K     |██████████                      | 378 kB 5.6 MB/s eta 0:00:01\r\u001b[K     |██████████▎                     | 389 kB 5.6 MB/s eta 0:00:01\r\u001b[K     |██████████▌                     | 399 kB 5.6 MB/s eta 0:00:01\r\u001b[K     |██████████▉                     | 409 kB 5.6 MB/s eta 0:00:01\r\u001b[K     |███████████                     | 419 kB 5.6 MB/s eta 0:00:01\r\u001b[K     |███████████▍                    | 430 kB 5.6 MB/s eta 0:00:01\r\u001b[K     |███████████▋                    | 440 kB 5.6 MB/s eta 0:00:01\r\u001b[K     |███████████▉                    | 450 kB 5.6 MB/s eta 0:00:01\r\u001b[K     |████████████▏                   | 460 kB 5.6 MB/s eta 0:00:01\r\u001b[K     |████████████▍                   | 471 kB 5.6 MB/s eta 0:00:01\r\u001b[K     |████████████▊                   | 481 kB 5.6 MB/s eta 0:00:01\r\u001b[K     |█████████████                   | 491 kB 5.6 MB/s eta 0:00:01\r\u001b[K     |█████████████▎                  | 501 kB 5.6 MB/s eta 0:00:01\r\u001b[K     |█████████████▌                  | 512 kB 5.6 MB/s eta 0:00:01\r\u001b[K     |█████████████▊                  | 522 kB 5.6 MB/s eta 0:00:01\r\u001b[K     |██████████████                  | 532 kB 5.6 MB/s eta 0:00:01\r\u001b[K     |██████████████▎                 | 542 kB 5.6 MB/s eta 0:00:01\r\u001b[K     |██████████████▋                 | 552 kB 5.6 MB/s eta 0:00:01\r\u001b[K     |██████████████▉                 | 563 kB 5.6 MB/s eta 0:00:01\r\u001b[K     |███████████████▏                | 573 kB 5.6 MB/s eta 0:00:01\r\u001b[K     |███████████████▍                | 583 kB 5.6 MB/s eta 0:00:01\r\u001b[K     |███████████████▋                | 593 kB 5.6 MB/s eta 0:00:01\r\u001b[K     |████████████████                | 604 kB 5.6 MB/s eta 0:00:01\r\u001b[K     |████████████████▏               | 614 kB 5.6 MB/s eta 0:00:01\r\u001b[K     |████████████████▌               | 624 kB 5.6 MB/s eta 0:00:01\r\u001b[K     |████████████████▊               | 634 kB 5.6 MB/s eta 0:00:01\r\u001b[K     |█████████████████               | 645 kB 5.6 MB/s eta 0:00:01\r\u001b[K     |█████████████████▎              | 655 kB 5.6 MB/s eta 0:00:01\r\u001b[K     |█████████████████▌              | 665 kB 5.6 MB/s eta 0:00:01\r\u001b[K     |█████████████████▉              | 675 kB 5.6 MB/s eta 0:00:01\r\u001b[K     |██████████████████              | 686 kB 5.6 MB/s eta 0:00:01\r\u001b[K     |██████████████████▍             | 696 kB 5.6 MB/s eta 0:00:01\r\u001b[K     |██████████████████▋             | 706 kB 5.6 MB/s eta 0:00:01\r\u001b[K     |███████████████████             | 716 kB 5.6 MB/s eta 0:00:01\r\u001b[K     |███████████████████▏            | 727 kB 5.6 MB/s eta 0:00:01\r\u001b[K     |███████████████████▍            | 737 kB 5.6 MB/s eta 0:00:01\r\u001b[K     |███████████████████▊            | 747 kB 5.6 MB/s eta 0:00:01\r\u001b[K     |████████████████████            | 757 kB 5.6 MB/s eta 0:00:01\r\u001b[K     |████████████████████▎           | 768 kB 5.6 MB/s eta 0:00:01\r\u001b[K     |████████████████████▌           | 778 kB 5.6 MB/s eta 0:00:01\r\u001b[K     |████████████████████▉           | 788 kB 5.6 MB/s eta 0:00:01\r\u001b[K     |█████████████████████           | 798 kB 5.6 MB/s eta 0:00:01\r\u001b[K     |█████████████████████▎          | 808 kB 5.6 MB/s eta 0:00:01\r\u001b[K     |█████████████████████▋          | 819 kB 5.6 MB/s eta 0:00:01\r\u001b[K     |█████████████████████▉          | 829 kB 5.6 MB/s eta 0:00:01\r\u001b[K     |██████████████████████▏         | 839 kB 5.6 MB/s eta 0:00:01\r\u001b[K     |██████████████████████▍         | 849 kB 5.6 MB/s eta 0:00:01\r\u001b[K     |██████████████████████▊         | 860 kB 5.6 MB/s eta 0:00:01\r\u001b[K     |███████████████████████         | 870 kB 5.6 MB/s eta 0:00:01\r\u001b[K     |███████████████████████▏        | 880 kB 5.6 MB/s eta 0:00:01\r\u001b[K     |███████████████████████▌        | 890 kB 5.6 MB/s eta 0:00:01\r\u001b[K     |███████████████████████▊        | 901 kB 5.6 MB/s eta 0:00:01\r\u001b[K     |████████████████████████        | 911 kB 5.6 MB/s eta 0:00:01\r\u001b[K     |████████████████████████▎       | 921 kB 5.6 MB/s eta 0:00:01\r\u001b[K     |████████████████████████▋       | 931 kB 5.6 MB/s eta 0:00:01\r\u001b[K     |████████████████████████▉       | 942 kB 5.6 MB/s eta 0:00:01\r\u001b[K     |█████████████████████████       | 952 kB 5.6 MB/s eta 0:00:01\r\u001b[K     |█████████████████████████▍      | 962 kB 5.6 MB/s eta 0:00:01\r\u001b[K     |█████████████████████████▋      | 972 kB 5.6 MB/s eta 0:00:01\r\u001b[K     |██████████████████████████      | 983 kB 5.6 MB/s eta 0:00:01\r\u001b[K     |██████████████████████████▏     | 993 kB 5.6 MB/s eta 0:00:01\r\u001b[K     |██████████████████████████▌     | 1.0 MB 5.6 MB/s eta 0:00:01\r\u001b[K     |██████████████████████████▊     | 1.0 MB 5.6 MB/s eta 0:00:01\r\u001b[K     |███████████████████████████     | 1.0 MB 5.6 MB/s eta 0:00:01\r\u001b[K     |███████████████████████████▎    | 1.0 MB 5.6 MB/s eta 0:00:01\r\u001b[K     |███████████████████████████▌    | 1.0 MB 5.6 MB/s eta 0:00:01\r\u001b[K     |███████████████████████████▉    | 1.1 MB 5.6 MB/s eta 0:00:01\r\u001b[K     |████████████████████████████    | 1.1 MB 5.6 MB/s eta 0:00:01\r\u001b[K     |████████████████████████████▍   | 1.1 MB 5.6 MB/s eta 0:00:01\r\u001b[K     |████████████████████████████▋   | 1.1 MB 5.6 MB/s eta 0:00:01\r\u001b[K     |████████████████████████████▉   | 1.1 MB 5.6 MB/s eta 0:00:01\r\u001b[K     |█████████████████████████████▏  | 1.1 MB 5.6 MB/s eta 0:00:01\r\u001b[K     |█████████████████████████████▍  | 1.1 MB 5.6 MB/s eta 0:00:01\r\u001b[K     |█████████████████████████████▊  | 1.1 MB 5.6 MB/s eta 0:00:01\r\u001b[K     |██████████████████████████████  | 1.1 MB 5.6 MB/s eta 0:00:01\r\u001b[K     |██████████████████████████████▎ | 1.1 MB 5.6 MB/s eta 0:00:01\r\u001b[K     |██████████████████████████████▌ | 1.2 MB 5.6 MB/s eta 0:00:01\r\u001b[K     |██████████████████████████████▊ | 1.2 MB 5.6 MB/s eta 0:00:01\r\u001b[K     |███████████████████████████████ | 1.2 MB 5.6 MB/s eta 0:00:01\r\u001b[K     |███████████████████████████████▎| 1.2 MB 5.6 MB/s eta 0:00:01\r\u001b[K     |███████████████████████████████▋| 1.2 MB 5.6 MB/s eta 0:00:01\r\u001b[K     |███████████████████████████████▉| 1.2 MB 5.6 MB/s eta 0:00:01\r\u001b[K     |████████████████████████████████| 1.2 MB 5.6 MB/s \n",
            "\u001b[?25hInstalling collected packages: sentencepiece\n",
            "Successfully installed sentencepiece-0.1.96\n"
          ]
        }
      ]
    },
    {
      "cell_type": "code",
      "source": [
        "import transformers\n",
        "\n",
        "from transformers import DistilBertTokenizer, DistilBertForSequenceClassification, XLNetForSequenceClassification,XLNetTokenizer\n",
        "from transformers import AdamW\n",
        "import os\n",
        "import torch\n",
        "import torch.nn as nn\n",
        "from torch.utils.data import Dataset, DataLoader\n",
        "from torch.nn.functional import softmax\n",
        "from torch.nn.utils import clip_grad_norm_\n",
        "import sklearn\n",
        "from sklearn.model_selection import train_test_split\n",
        "import pandas as pd\n",
        "import numpy as np\n",
        "from collections import defaultdict\n",
        "\n",
        "RANDOM_STATE = 42\n",
        "BATCH_SIZE = 32\n",
        "EPOCH = 20\n",
        "LR = 2e-5\n",
        "DEVICE = 'cuda' if torch.cuda.is_available() else 'cpu'\n",
        "MODEL_NAME = 'xlnet-base-cased'\n",
        "\n",
        "class CN1_Dataset(Dataset):\n",
        "\n",
        "    def __init__(self,data, max_len=256):\n",
        "        self.data = data\n",
        "        self.tokenizer = XLNetTokenizer.from_pretrained(MODEL_NAME)\n",
        "        self.max_len = max_len\n",
        "    def __len__(self):\n",
        "        return len(self.data)\n",
        "    def __getitem__(self, idx):\n",
        "        row_data = self.data.iloc[idx]\n",
        "        content = row_data['content']\n",
        "        label = row_data[-3:]\n",
        "\n",
        "        encoding = self.tokenizer(\n",
        "            content,\n",
        "            padding='max_length', \n",
        "            truncation=True,\n",
        "            max_length=self.max_len, \n",
        "            return_tensors='pt'\n",
        "        )\n",
        "\n",
        "        return {\n",
        "            'input_ids': encoding['input_ids'].flatten(),\n",
        "            'attention_mask': encoding['attention_mask'].flatten(),\n",
        "            'label': torch.tensor(label, dtype=torch.float32)\n",
        "        }\n",
        "\n",
        "def CreateDataloader(ds, batch_size=16, drop_last=False):\n",
        "    return DataLoader(\n",
        "        ds,\n",
        "        batch_size=batch_size,\n",
        "        drop_last=drop_last\n",
        "    )\n",
        "\n",
        "def semantic_loss(preds, batch_size, device):\n",
        "\n",
        "    # normalized_preds = torch.sigmoid(preds).to(device)\n",
        "    # print(normalized_preds)\n",
        "    wmc_tmp = torch.zeros(n_batch_size).to(device)\n",
        "    for i in range(3):\n",
        "        one = torch.concat(\n",
        "            [torch.concat([torch.ones([n_batch_size,i]), torch.zeros([n_batch_size, 1])], axis=1),\n",
        "             torch.ones([n_batch_size, 3-i-1])], axis=1).to(device)\n",
        "        # normalized_preds = torch.stack((normalized_preds,normalized_preds,normalized_preds),1)\n",
        "        # print(normalized_preds)\n",
        "        # break\n",
        "        # print(one - normalized_preds)\n",
        "        # print('--------------------------')\n",
        "        wmc_tmp += torch.prod(one-preds, axis=1).to(device)\n",
        "        # wmc_tmp += torch.prod(one-normalized_preds, axis=1).to(device)\n",
        "        # print(torch.log(torch.abs(wmc_tmp)))\n",
        "        log_wmc = (torch.abs(wmc_tmp)).to(device)\n",
        "        sl = torch.mean(torch.sum(log_wmc)).to(device)\n",
        "    return sl\n",
        "\n",
        "'''\n",
        "load data\n",
        "'''\n",
        "df = pd.read_csv('/content/drive/Othercomputers/我的 MacBook Pro (1)/Documents/GitHub/neural_symbolic_FG/training/kn1_data.csv')\n",
        "df_data = pd.DataFrame()\n",
        "df_data['content'] = df['reference_answer'] + df['response']\n",
        "one_hot_labels = pd.get_dummies(df['verification'])\n",
        "df_data = pd.concat([df_data, one_hot_labels], axis=1)\n",
        "\n",
        "'''\n",
        "create train and val dataset and dataloader\n",
        "'''\n",
        "df_train,df_val = train_test_split(df_data, random_state=RANDOM_STATE, test_size=0.15)\n",
        "ds_train = CN1_Dataset(df_train)\n",
        "ds_val = CN1_Dataset(df_val)\n",
        "\n",
        "dl_train = CreateDataloader(ds_train,batch_size=BATCH_SIZE)\n",
        "dl_val = CreateDataloader(ds_val, batch_size=BATCH_SIZE)\n",
        "\n",
        "model = XLNetForSequenceClassification.from_pretrained(MODEL_NAME,\n",
        "                                                            num_labels=3,\n",
        "                                                            output_hidden_states=False,\n",
        "                                                            output_attentions=False)\n",
        "model.to(DEVICE)\n",
        "# criterion = nn.CrossEntropyLoss().to(DEVICE)\n",
        "criterion = nn.BCELoss().to(DEVICE)\n",
        "optimizer = AdamW(model.parameters(), lr=LR )\n",
        "\n",
        "history = defaultdict(list)\n",
        "\n",
        "for epoch in range(EPOCH):\n",
        "\n",
        "\n",
        "    model.train()\n",
        "    train_losses = []\n",
        "    train_correct_preds = 0\n",
        "\n",
        "    for data in dl_train:\n",
        "        input_ids = data['input_ids'].squeeze(1).to(DEVICE)\n",
        "        attention_mask = data['attention_mask'].squeeze(1).to(DEVICE)\n",
        "        label = data['label'].to(DEVICE)\n",
        "\n",
        "        output = model(input_ids, attention_mask)\n",
        "        # output = softmax(output.logits)\n",
        "        output = torch.sigmoid(output.logits)\n",
        "\n",
        "        train_loss = criterion(output, label)\n",
        "        train_losses.append(train_loss.item())\n",
        "        train_correct_preds += torch.sum(torch.argmax(output, dim=1) == torch.argmax(label, dim=1))\n",
        "        train_acc = train_correct_preds / len(ds_train)\n",
        "\n",
        "        train_loss.backward()\n",
        "        clip_grad_norm_(model.parameters(), max_norm=1.0)\n",
        "        optimizer.step()\n",
        "        optimizer.zero_grad()\n",
        "\n",
        "\n",
        "    model.eval()\n",
        "    val_losses = []\n",
        "    val_correct_preds = 0\n",
        "    with torch.no_grad():\n",
        "      for data in dl_val:\n",
        "          input_ids = data['input_ids'].squeeze(1).to(DEVICE)\n",
        "          attention_mask = data['attention_mask'].squeeze(1).to(DEVICE)\n",
        "          label = data['label'].to(DEVICE)\n",
        "\n",
        "          output = model(input_ids, attention_mask)\n",
        "          # output = softmax(output.logits)\n",
        "          output = torch.sigmoid(output.logits)\n",
        "\n",
        "\n",
        "          val_loss = criterion(output, label)\n",
        "          val_losses.append(val_loss.item())\n",
        "          val_correct_preds += torch.sum(torch.argmax(output, dim=1) == torch.argmax(label, dim=1))\n",
        "          val_acc = val_correct_preds / len(ds_val)\n",
        "    \n",
        "    \n",
        "    history['train_loss'].append(np.mean(train_losses))\n",
        "    history['train_acc'].append(train_acc)\n",
        "    history['val_loss'].append(np.mean(val_losses))\n",
        "    history['val_acc'].append(val_acc)\n",
        "\n",
        "    print('#'*50)\n",
        "    print(f'run {epoch+1} of {EPOCH}')\n",
        "    print(f'train loss: {np.mean(train_losses)}, train acc: {train_acc}')\n",
        "    print(f'val loss: {np.mean(val_losses)}, val acc: {val_acc}')\n",
        "\n",
        "\n",
        "\n"
      ],
      "metadata": {
        "id": "oPGX_Scuj_J8",
        "colab": {
          "base_uri": "https://localhost:8080/"
        },
        "outputId": "ce0c8230-d9db-4bca-a497-f5203199c057"
      },
      "execution_count": 4,
      "outputs": [
        {
          "output_type": "stream",
          "name": "stderr",
          "text": [
            "Some weights of the model checkpoint at xlnet-base-cased were not used when initializing XLNetForSequenceClassification: ['lm_loss.bias', 'lm_loss.weight']\n",
            "- This IS expected if you are initializing XLNetForSequenceClassification from the checkpoint of a model trained on another task or with another architecture (e.g. initializing a BertForSequenceClassification model from a BertForPreTraining model).\n",
            "- This IS NOT expected if you are initializing XLNetForSequenceClassification from the checkpoint of a model that you expect to be exactly identical (initializing a BertForSequenceClassification model from a BertForSequenceClassification model).\n",
            "Some weights of XLNetForSequenceClassification were not initialized from the model checkpoint at xlnet-base-cased and are newly initialized: ['logits_proj.bias', 'logits_proj.weight', 'sequence_summary.summary.weight', 'sequence_summary.summary.bias']\n",
            "You should probably TRAIN this model on a down-stream task to be able to use it for predictions and inference.\n"
          ]
        },
        {
          "output_type": "stream",
          "name": "stdout",
          "text": [
            "##################################################\n",
            "run 1 of 20\n",
            "train loss: 0.5473950125277043, train acc: 0.5821371674537659\n",
            "val loss: 0.4856853016785213, val acc: 0.6576576828956604\n",
            "##################################################\n",
            "run 2 of 20\n",
            "train loss: 0.43217891119420526, train acc: 0.679425835609436\n",
            "val loss: 0.42097614066941397, val acc: 0.7117117047309875\n",
            "##################################################\n",
            "run 3 of 20\n",
            "train loss: 0.38667081035673617, train acc: 0.7185007929801941\n",
            "val loss: 0.42711399282727924, val acc: 0.6981981992721558\n",
            "##################################################\n",
            "run 4 of 20\n",
            "train loss: 0.3473106924444437, train acc: 0.7480063438415527\n",
            "val loss: 0.42510537590299335, val acc: 0.7297297716140747\n",
            "##################################################\n",
            "run 5 of 20\n",
            "train loss: 0.3122356466948986, train acc: 0.7727272510528564\n",
            "val loss: 0.45902386733463835, val acc: 0.6936936974525452\n",
            "##################################################\n",
            "run 6 of 20\n",
            "train loss: 0.2889356343075633, train acc: 0.7926634550094604\n",
            "val loss: 0.4982136530535562, val acc: 0.707207202911377\n",
            "##################################################\n",
            "run 7 of 20\n",
            "train loss: 0.2871626581996679, train acc: 0.8054226636886597\n",
            "val loss: 0.5416933468409947, val acc: 0.7117117047309875\n",
            "##################################################\n",
            "run 8 of 20\n",
            "train loss: 0.27905004620552065, train acc: 0.8014354109764099\n",
            "val loss: 0.5327154610838208, val acc: 0.7162162065505981\n",
            "##################################################\n",
            "run 9 of 20\n",
            "train loss: 0.24217981435358524, train acc: 0.8349282145500183\n",
            "val loss: 0.5116533466747829, val acc: 0.7432432770729065\n",
            "##################################################\n",
            "run 10 of 20\n",
            "train loss: 0.20396289667114614, train acc: 0.8516746163368225\n",
            "val loss: 0.5571721366473606, val acc: 0.7342342734336853\n",
            "##################################################\n",
            "run 11 of 20\n",
            "train loss: 0.17380015049129724, train acc: 0.8700159192085266\n",
            "val loss: 0.5843109616211483, val acc: 0.7162162065505981\n",
            "##################################################\n",
            "run 12 of 20\n",
            "train loss: 0.16671927301213146, train acc: 0.8724082708358765\n",
            "val loss: 0.5892314996038165, val acc: 0.7297297716140747\n",
            "##################################################\n",
            "run 13 of 20\n",
            "train loss: 0.1561100371181965, train acc: 0.880382776260376\n",
            "val loss: 0.694576063326427, val acc: 0.7162162065505981\n",
            "##################################################\n",
            "run 14 of 20\n",
            "train loss: 0.1535807446576655, train acc: 0.8827751278877258\n",
            "val loss: 0.697220938546317, val acc: 0.7432432770729065\n",
            "##################################################\n",
            "run 15 of 20\n",
            "train loss: 0.14700570777058602, train acc: 0.8899521231651306\n",
            "val loss: 0.7524705699511937, val acc: 0.7162162065505981\n",
            "##################################################\n",
            "run 16 of 20\n",
            "train loss: 0.14752326756715775, train acc: 0.8883572220802307\n",
            "val loss: 0.8193553004946027, val acc: 0.6936936974525452\n",
            "##################################################\n",
            "run 17 of 20\n",
            "train loss: 0.14453540397807957, train acc: 0.8883572220802307\n",
            "val loss: 0.763385934489114, val acc: 0.7342342734336853\n",
            "##################################################\n",
            "run 18 of 20\n",
            "train loss: 0.13710003262385725, train acc: 0.8963317275047302\n",
            "val loss: 0.7936400515692574, val acc: 0.7342342734336853\n",
            "##################################################\n",
            "run 19 of 20\n",
            "train loss: 0.13666780460625888, train acc: 0.8899521231651306\n",
            "val loss: 0.8203739098140171, val acc: 0.7297297716140747\n",
            "##################################################\n",
            "run 20 of 20\n",
            "train loss: 0.13883755188435315, train acc: 0.8907495737075806\n",
            "val loss: 0.9094069685254779, val acc: 0.7117117047309875\n"
          ]
        }
      ]
    },
    {
      "cell_type": "code",
      "source": [
        "import matplotlib.pyplot as plt\n",
        "\n",
        "plt.plot(history['train_loss'], label='train loss')\n",
        "plt.plot(history['val_loss'], label='validation loss')\n",
        "\n",
        "\n",
        "plt.title('Training history')\n",
        "plt.ylabel('Loss')\n",
        "plt.xlabel('Epoch')\n",
        "plt.legend()\n",
        "plt.show()"
      ],
      "metadata": {
        "colab": {
          "base_uri": "https://localhost:8080/",
          "height": 295
        },
        "id": "uXM_qDU4P_Gm",
        "outputId": "c6b9aa84-2169-4e02-c8b1-fdd501fe8202"
      },
      "execution_count": 6,
      "outputs": [
        {
          "output_type": "display_data",
          "data": {
            "image/png": "[encoded data removed]",
            "text/plain": [
              "<Figure size 432x288 with 1 Axes>"
            ]
          },
          "metadata": {
            "needs_background": "light"
          }
        }
      ]
    },
    {
      "cell_type": "code",
      "source": [
        "plt.plot(history['train_acc'], label='train accuracy')\n",
        "plt.plot(history['val_acc'], label='validation accuracy')\n",
        "\n",
        "plt.title('Training history')\n",
        "plt.ylabel('Accuracy')\n",
        "plt.xlabel('Epoch')\n",
        "plt.legend()\n",
        "plt.show()"
      ],
      "metadata": {
        "colab": {
          "base_uri": "https://localhost:8080/",
          "height": 295
        },
        "id": "nrGFPq3vUYZI",
        "outputId": "5b1a796b-e380-4399-d7b9-38b48cbb8609"
      },
      "execution_count": 7,
      "outputs": [
        {
          "output_type": "display_data",
          "data": {
            "image/png": "[encoded data removed]",
            "text/plain": [
              "<Figure size 432x288 with 1 Axes>"
            ]
          },
          "metadata": {
            "needs_background": "light"
          }
        }
      ]
    },
    {
      "cell_type": "code",
      "source": [
        ""
      ],
      "metadata": {
        "id": "X6z4D5ucUeck"
      },
      "execution_count": null,
      "outputs": []
    }
  ]
}